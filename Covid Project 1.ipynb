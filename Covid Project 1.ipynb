{
    "metadata": {
        "kernelspec": {
            "name": "SQL",
            "display_name": "SQL",
            "language": "sql"
        },
        "language_info": {
            "name": "sql",
            "version": ""
        }
    },
    "nbformat_minor": 2,
    "nbformat": 4,
    "cells": [
        {
            "cell_type": "markdown",
            "source": [
                "Create the Schema to be used"
            ],
            "metadata": {
                "azdata_cell_guid": "1ba97e9e-6147-4e2b-b29d-391f2a6f7fdd"
            },
            "attachments": {}
        },
        {
            "cell_type": "code",
            "source": [
                "CREATE SCHEMA coviddata;"
            ],
            "metadata": {
                "azdata_cell_guid": "84a2b59e-5892-4860-ae86-04ff6a360075",
                "language": "sql"
            },
            "outputs": [],
            "execution_count": null
        },
        {
            "cell_type": "markdown",
            "source": [
                "Create the first table of deaths data"
            ],
            "metadata": {
                "language": "sql",
                "azdata_cell_guid": "0a22c478-b321-4eb3-bc1b-19372408b74d"
            },
            "attachments": {}
        },
        {
            "cell_type": "code",
            "source": [
                "CREATE TABLE coviddata.deathsdata(\r\n",
                "    iso_code VARCHAR(4),\r\n",
                "    continent VARCHAR(12),\r\n",
                "    location VARCHAR(30),\r\n",
                "    date DATE,\r\n",
                "    population BIGINT,\r\n",
                "    total_cases BIGINT,\r\n",
                "    new_cases INTEGER,\r\n",
                "    new_cases_smoothed NUMERIC,\r\n",
                "    total_deaths INTEGER,\r\n",
                "    new_deaths INTEGER,\r\n",
                "    new_deaths_smoothed NUMERIC,\r\n",
                "    total_cases_per_million NUMERIC,\r\n",
                "    new_cases_per_million NUMERIC,\r\n",
                "    new_cases_smoothed_per_million NUMERIC,\r\n",
                "    total_deaths_per_million NUMERIC,\r\n",
                "    new_deaths_per_million NUMERIC,\r\n",
                "    new_deaths_smoothed_per_million NUMERIC,\r\n",
                "    reproduction_rate NUMERIC,\r\n",
                "    icu_patients INTEGER,\r\n",
                "    icu_patients_per_million NUMERIC,\r\n",
                "    hosp_patients INTEGER,\r\n",
                "    hosp_patients_per_million NUMERIC,\r\n",
                "    weekly_icu_admissions INTEGER,\r\n",
                "    weekly_icu_admissions_per_million NUMERIC,\r\n",
                "    weekly_hosp_admissions INTEGER,\r\n",
                "    weekly_hosp_admissions_per_million NUMERIC,\r\n",
                "    excess_mortality_cumulative_absolute NUMERIC,\r\n",
                "    excess_mortality_cumulative NUMERIC,\r\n",
                "    excess_mortality NUMERIC,\r\n",
                "    excess_mortality_cumulative_per_million NUMERIC,\r\n",
                "    PRIMARY KEY(iso_code, continent, location, date)\r\n",
                ");"
            ],
            "metadata": {
                "language": "sql",
                "azdata_cell_guid": "18e5e9b7-233f-4046-a16d-5338986040b6"
            },
            "outputs": [
                {
                    "output_type": "display_data",
                    "data": {
                        "text/html": "Commands completed successfully"
                    },
                    "metadata": {}
                },
                {
                    "output_type": "display_data",
                    "data": {
                        "text/html": "Total execution time: 00:00:00.042"
                    },
                    "metadata": {}
                }
            ],
            "execution_count": 9
        },
        {
            "cell_type": "markdown",
            "source": [
                "Now for the vaccination data"
            ],
            "metadata": {
                "language": "sql",
                "azdata_cell_guid": "4121de8c-9546-4248-90c2-62f1b1ce10b6"
            },
            "attachments": {}
        },
        {
            "cell_type": "code",
            "source": [
                "CREATE TABLE coviddata.vaccinationsdata(\r\n",
                "    iso_code VARCHAR,\r\n",
                "    continent VARCHAR,\r\n",
                "    location VARCHAR,\r\n",
                "    date DATE,\r\n",
                "    total_tests BIGINT,\r\n",
                "    new_tests INTEGER,\r\n",
                "    total_tests_per_thousand NUMERIC,\r\n",
                "    new_tests_per_thousand NUMERIC,\r\n",
                "    new_tests_smoothed INTEGER,\r\n",
                "    new_tests_smoothed_per_thousand NUMERIC,\r\n",
                "    positive_rate NUMERIC,\r\n",
                "    tests_per_case NUMERIC,\r\n",
                "    tests_units VARCHAR,\r\n",
                "    total_vaccinations BIGINT,\r\n",
                "    people_vaccinated BIGINT,\r\n",
                "    people_fully_vaccinated BIGINT,\r\n",
                "    total_boosters BIGINT,\r\n",
                "    new_vaccinations NUMERIC,\r\n",
                "    new_vaccinations_smoothed NUMERIC,\r\n",
                "    total_vaccinations_per_hundred NUMERIC,\r\n",
                "    people_vaccinated_per_hundred NUMERIC,\r\n",
                "    people_fully_vaccinated_per_hundred NUMERIC,\r\n",
                "    total_boosters_per_hundred NUMERIC,\r\n",
                "    new_vaccinations_smoothed_per_million NUMERIC,\r\n",
                "    new_people_vaccinated_smoothed INTEGER,\r\n",
                "    new_people_vaccinated_smoothed_per_hundred INTEGER,\r\n",
                "    stringency_index NUMERIC,\r\n",
                "    population_density NUMERIC,\r\n",
                "    median_age NUMERIC,\r\n",
                "    aged_65_older NUMERIC,\r\n",
                "    aged_70_older NUMERIC,\r\n",
                "    gdp_per_capita NUMERIC,\r\n",
                "    extreme_poverty INTEGER,\r\n",
                "    cardiovasc_death_rate NUMERIC,\r\n",
                "    diabetes_prevalence NUMERIC,\r\n",
                "    female_smokers NUMERIC,\r\n",
                "    male_smokers NUMERIC,\r\n",
                "    handwashing_facilities NUMERIC,\r\n",
                "    hospital_beds_per_thousand NUMERIC,\r\n",
                "    life_expectancy NUMERIC,\r\n",
                "    human_development_index NUMERIC,\r\n",
                "    PRIMARY KEY(iso_code, continent, location, date)\r\n",
                ")"
            ],
            "metadata": {
                "language": "sql",
                "azdata_cell_guid": "dc11949e-4e5a-4517-8da2-b3296c2d91fb"
            },
            "outputs": [
                {
                    "output_type": "display_data",
                    "data": {
                        "text/html": "Commands completed successfully"
                    },
                    "metadata": {}
                },
                {
                    "output_type": "display_data",
                    "data": {
                        "text/html": "Total execution time: 00:00:00.021"
                    },
                    "metadata": {}
                }
            ],
            "execution_count": 10
        },
        {
            "cell_type": "markdown",
            "source": [
                "Copy the CSV data into the tables"
            ],
            "metadata": {
                "language": "sql",
                "azdata_cell_guid": "ba4e6af0-a71c-496b-93c1-1fe4fd1e2c0e"
            },
            "attachments": {}
        },
        {
            "cell_type": "code",
            "source": [
                "COPY coviddata.deathsdata FROM './data/owid-covid-data-deaths.csv' DELIMITER ',' CSV HEADER;"
            ],
            "metadata": {
                "language": "sql",
                "azdata_cell_guid": "3908f357-442f-440f-850f-24a476593452"
            },
            "outputs": [
                {
                    "output_type": "error",
                    "evalue": "could not open file \"./data/owid-covid-data-deaths.csv\" for reading: No such file or directory",
                    "ename": "",
                    "traceback": []
                },
                {
                    "output_type": "display_data",
                    "data": {
                        "text/html": "Total execution time: 00:00:00.009"
                    },
                    "metadata": {}
                }
            ],
            "execution_count": 11
        }
    ]
}